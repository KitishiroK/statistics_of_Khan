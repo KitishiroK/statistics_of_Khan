{
 "cells": [
  {
   "cell_type": "markdown",
   "metadata": {},
   "source": [
    "### 1.概述\n",
    "\n",
    "- 二项分布是离散型概率模型中最有名的一个，其次是 Poisson 分布，它可以看成是二项分布的一种极限情形。\n",
    "\n"
   ]
  },
  {
   "cell_type": "markdown",
   "metadata": {},
   "source": [
    "### 2.示例\n",
    "\n",
    "- 泊松分布由二项分布演进而来。二项分布十分好理解，给你n次机会抛硬币，硬币正面向上的概率为p，问在这n次机会中有k次（k<=n）硬币朝上的概率为多少？在这n次抛硬币中，硬币朝上的次数的期望有多少？\n",
    "$$\\begin{gather}\n",
    "{\\displaystyle f(k;n,p)=\\Pr(X=k)={n \\choose k}p^{k}(1-p)^{n-k}}\n",
    "\\end{gather}\n",
    "$$\n",
    "\n",
    "- 如果现在我能根据n的大小来控制p，从而控制这个期望，即无论n为多大，硬币朝上的次数的期望不变(恒为$\\lambda$）：\n",
    "\n",
    "$$\\begin{gather}\n",
    "{{E} [X]=np=\\lambda} \n",
    "\\end{gather}\n",
    "$$\n",
    "$$\\begin{gather}\n",
    "p= \\frac{\\lambda}{n}\n",
    "\\end{gather}\n",
    "$$\n",
    "\n",
    "那么当n趋于无穷的时候，p(x)将趋于泊松分布，即：\n",
    "$$\\begin{gather}\n",
    "P(X=k)=\\frac{e^{-\\lambda}\\lambda^k}{k!}\n",
    "\\end{gather}\n",
    "$$"
   ]
  },
  {
   "cell_type": "markdown",
   "metadata": {},
   "source": [
    "### 3.满足条件\n",
    "\n",
    "- 在任意单位时间长度内，到达率是稳定的。对应于无穷次抛硬币的例子，我们相当于把一个单位时间分割成了无穷次抛硬币的实验，每次实验产生正面的概率都是一样的（为lambda/n），而在这无穷个抛硬币实验之后（即一个单位时间之后）我们期望能抛出lambda个正面的硬币。这个性质类比于在有限次抛硬币（二次分布）的例子中保证了每次掷出硬币为正面的概率都为p。\n",
    "\n",
    "- 未来的实验结果与过去的实验结果无关。对应于无穷次抛硬币的例子，之前不管抛出了多少个正面和反面的硬币，都不会影响之后硬币出现的结果。\n",
    "\n",
    "- 在极小的一段时间内，有1次到达的概率非常小，没有到达的概率非常大。对应于无穷次抛硬币的例子，我们发现硬币朝上的概率p=lambda/n趋向于0。\n",
    "\n"
   ]
  },
  {
   "cell_type": "markdown",
   "metadata": {},
   "source": [
    "### 4.参考\n",
    "- http://www.ruanyifeng.com/blog/2013/01/poisson_distribution.html\n",
    "- http://episte.math.ntu.edu.tw/articles/sm/sm_16_07_1/index.html"
   ]
  },
  {
   "cell_type": "code",
   "execution_count": null,
   "metadata": {
    "collapsed": true
   },
   "outputs": [],
   "source": []
  }
 ],
 "metadata": {
  "kernelspec": {
   "display_name": "Python 2",
   "language": "python",
   "name": "python2"
  },
  "language_info": {
   "codemirror_mode": {
    "name": "ipython",
    "version": 2
   },
   "file_extension": ".py",
   "mimetype": "text/x-python",
   "name": "python",
   "nbconvert_exporter": "python",
   "pygments_lexer": "ipython2",
   "version": "2.7.13"
  }
 },
 "nbformat": 4,
 "nbformat_minor": 2
}
