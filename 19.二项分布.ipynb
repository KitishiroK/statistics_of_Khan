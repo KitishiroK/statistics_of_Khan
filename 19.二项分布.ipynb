{
 "cells": [
  {
   "cell_type": "markdown",
   "metadata": {},
   "source": [
    "### 1.概述\n",
    "\n",
    "- 二项分布（英语：Binomial distribution）是n个独立的是/非试验中成功的次数的离散概率分布，其中每次试验的成功概率为p。这样的单次成功/失败试验又称为伯努利试验。实际上，当n = 1时，二项分布就是伯努利分布。二项分布是显著性差异的二项试验的基础。\n",
    "\n",
    "- 一个简单的例子如下：掷一枚骰子十次，那么掷得4的次数就服从n = 10、p = 1/6的二项分布。"
   ]
  },
  {
   "cell_type": "markdown",
   "metadata": {},
   "source": [
    "### 2.概率质量函数\n",
    "\n",
    "- 在概率论中，概率质量函数（probability mass function，简写为pmf）是离散随机变量在各特定取值上的概率。概率质量函数和概率密度函数不同之处在于：概率质量函数是对离散随机变量定义的，本身代表该值的概率；概率密度函数是对连续随机变量定义的，本身不是概率，只有对连续随机变量的概率密度函数在某区间内进行积分后才是概率。\n",
    "\n",
    "\n",
    "一般地，如果随机变量 ${\\displaystyle {\\mathit {X}}}$ 服从参数为 n和p 的二项分布，我们记 ${\\displaystyle X\\sim b(n,p)}$ 或 ${\\displaystyle X\\sim B(n,p)} $。n次试验中正好得到k次成功的概率由概率质量函数给出：\n",
    "\n",
    "${\\displaystyle f(k;n,p)=\\Pr(X=k)={n \\choose k}p^{k}(1-p)^{n-k}}$\n",
    "\n",
    "对于k = 0, 1, 2, ..., n，其中 \n",
    "${n \\choose k}={\\frac {n!}{k!(n-k)!}}$\n",
    "是二项式系数（这就是二项分布的名称的由来），又记为C(n, k)，$_nC_k$，或$^nC_k$。该公式可以用以下方法理解：我们希望有k次成功$(p^k)$和n − k次失败${(1 − p)^{(n − k)}}$。然而，k次成功可以在n次试验的任何地方出现，而把k次成功分布在n次试验中共有C(n, k)个不同的方法。\n"
   ]
  },
  {
   "cell_type": "code",
   "execution_count": null,
   "metadata": {
    "collapsed": true
   },
   "outputs": [],
   "source": []
  }
 ],
 "metadata": {
  "kernelspec": {
   "display_name": "Python 2",
   "language": "python",
   "name": "python2"
  },
  "language_info": {
   "codemirror_mode": {
    "name": "ipython",
    "version": 2
   },
   "file_extension": ".py",
   "mimetype": "text/x-python",
   "name": "python",
   "nbconvert_exporter": "python",
   "pygments_lexer": "ipython2",
   "version": "2.7.13"
  }
 },
 "nbformat": 4,
 "nbformat_minor": 2
}
