{
 "cells": [
  {
   "cell_type": "markdown",
   "metadata": {},
   "source": [
    "### 1.概述\n",
    "- 在数学中，连续型随机变量的概率密度函数（在不至于混淆时可以简称为密度函数）是一个描述这个随机变量的输出值，在某个确定的取值点附近的可能性的函数。图中，横轴为随机变量的取值，纵轴为概率密度函数的值，而随机变量的取值落在某个区域内的概率为概率密度函数在这个区域上的积分。当概率密度函数存在的时候，累积分布函数是概率密度函数的积分。概率密度函数一般以大写“PDF”（Probability Density Function）标记。"
   ]
  },
  {
   "cell_type": "markdown",
   "metadata": {},
   "source": [
    "### 2.性质\n",
    "连续型随机变量的概率密度函数有如下性质：\n",
    "\n",
    "- ${\\displaystyle \\forall -\\infty <x<\\infty ,\\quad f_{X}(x)\\geq 0}$\n",
    "- ${\\displaystyle \\int _{-\\infty }^{\\infty }f_{X}(x)\\,dx=1}$\n",
    "\n",
    "- ${\\displaystyle \\forall -\\infty <a<b<\\infty ,\\quad \\mathbb {P} \\left[a<X\\leq b\\right]=F_{X}(b)-F_{X}(a)=\\int _{a}^{b}f_{X}(x)\\,dx} \\forall -\\infty <a<b<\\infty ,\\quad {\\mathbb  {P}}\\left[a<X\\leq b\\right]=F_{X}(b)-F_{X}(a)=\\int _{{a}}^{{b}}f_{{X}}(x)\\,dx$"
   ]
  },
  {
   "cell_type": "markdown",
   "metadata": {},
   "source": [
    "### 3.离散型概率密度函数\n",
    "- 以掷硬币为例，0代表反面，1代表正面"
   ]
  },
  {
   "cell_type": "code",
   "execution_count": 4,
   "metadata": {
    "collapsed": false
   },
   "outputs": [
    {
     "data": {
      "image/png": "[encoded data removed]",
      "text/plain": [
       "<matplotlib.figure.Figure at 0x112d80450>"
      ]
     },
     "metadata": {},
     "output_type": "display_data"
    }
   ],
   "source": [
    "import matplotlib.pyplot as plt\n",
    "data = {0: 0.5, 1:0.5}\n",
    "names = list(data.keys())\n",
    "values = list(data.values())\n",
    "plt.bar(list(data.keys()),list(data.values()))\n",
    "plt.show()"
   ]
  },
  {
   "cell_type": "markdown",
   "metadata": {},
   "source": [
    "### 4.连续型概率密度函数\n",
    "- 以正态分布为例"
   ]
  },
  {
   "cell_type": "code",
   "execution_count": 7,
   "metadata": {
    "collapsed": false
   },
   "outputs": [
    {
     "data": {
      "image/png": "[encoded data removed]",
      "text/plain": [
       "<matplotlib.figure.Figure at 0x1131d12d0>"
      ]
     },
     "metadata": {},
     "output_type": "display_data"
    }
   ],
   "source": [
    "#-*- coding:utf-8 -*-\n",
    "# Python实现正态分布\n",
    "# 绘制正态分布概率密度函数\n",
    "import numpy as np\n",
    "import matplotlib.pyplot as plt\n",
    "import math\n",
    "u = 0   # 均值μ\n",
    "u01 = -2\n",
    "sig = math.sqrt(0.2)  # 标准差δ\n",
    " \n",
    "x = np.linspace(u - 3*sig, u + 3*sig, 50)\n",
    "y_sig = np.exp(-(x - u) ** 2 /(2* sig **2))/(math.sqrt(2*math.pi)*sig)\n",
    "plt.plot(x, y_sig, \"r-\", linewidth=2)\n",
    "plt.grid(True)\n",
    "plt.show()"
   ]
  },
  {
   "cell_type": "code",
   "execution_count": null,
   "metadata": {
    "collapsed": true
   },
   "outputs": [],
   "source": []
  }
 ],
 "metadata": {
  "kernelspec": {
   "display_name": "Python 2",
   "language": "python",
   "name": "python2"
  },
  "language_info": {
   "codemirror_mode": {
    "name": "ipython",
    "version": 2
   },
   "file_extension": ".py",
   "mimetype": "text/x-python",
   "name": "python",
   "nbconvert_exporter": "python",
   "pygments_lexer": "ipython2",
   "version": "2.7.13"
  }
 },
 "nbformat": 4,
 "nbformat_minor": 2
}
