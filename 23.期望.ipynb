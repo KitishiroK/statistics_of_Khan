{
 "cells": [
  {
   "cell_type": "markdown",
   "metadata": {},
   "source": [
    "### 1.概述\n",
    "\n",
    "- 在概率论和统计学中，一个离散性随机变量的期望值（或数学期望、或均值，亦简称期望，物理学中称为期待值）是试验中每次可能的结果乘以其结果概率的总和。换句话说，期望值像是随机试验在同样的机会下重复多次，所有那些可能状态平均的结果，便基本上等同“期望值”所期望的数。需要注意的是，期望值并不一定等同于常识中的“期望”——“期望值”也许与每一个结果都不相等。（换句话说，期望值是该变量输出值的平均数。期望值并不一定包含于变量的输出值集合里。）\n",
    "\n",
    "例如，掷一枚公平的六面骰子，其每次“点数”的期望值是3.5，计算如下：\n",
    "\n",
    "${\\displaystyle {\\begin{aligned}\\operatorname {E} (X)&=1\\cdot {\\frac {1}{6}}+2\\cdot {\\frac {1}{6}}+3\\cdot {\\frac {1}{6}}+4\\cdot {\\frac {1}{6}}+5\\cdot {\\frac {1}{6}}+6\\cdot {\\frac {1}{6}}\\\\[6pt]&={\\frac {1+2+3+4+5+6}{6}}=3.5\\end{aligned}}}$\n",
    "\n",
    "不过如上所说明的，3.5虽是“点数”的期望值，但却不属于可能结果中的任一个，没有可能掷出此点数。\n",
    "\n",
    "赌博是期望值的一种常见应用。例如，美国的轮盘中常用的轮盘上有38个数字，每一个数字被选中的概率都是相等的。赌注一般押在其中某一个数字上，如果轮盘的输出值和这个数字相等，那么下赌者可以获得相当于赌注35倍的奖金（原注不包含在内），若输出值和下压数字不同，则赌注就输掉了。考虑到38种所有的可能结果，然后这里我们的设定的期望目标是“赢钱”，则因此，讨论赢或输两种预想状态的话，以1美元赌注押一个数字上，则获利的期望值为：赢的“概率38分之1，能获得35元”，加上“输1元的情况37种”，结果约等于-0.0526美元。也就是说，平均起来每赌1美元就会输掉0.0526美元，即美式轮盘以1美元作赌注的期望值为负0.0526美元。\n",
    "\n"
   ]
  },
  {
   "cell_type": "code",
   "execution_count": null,
   "metadata": {
    "collapsed": true
   },
   "outputs": [],
   "source": []
  }
 ],
 "metadata": {
  "kernelspec": {
   "display_name": "Python 2",
   "language": "python",
   "name": "python2"
  },
  "language_info": {
   "codemirror_mode": {
    "name": "ipython",
    "version": 2
   },
   "file_extension": ".py",
   "mimetype": "text/x-python",
   "name": "python",
   "nbconvert_exporter": "python",
   "pygments_lexer": "ipython2",
   "version": "2.7.13"
  }
 },
 "nbformat": 4,
 "nbformat_minor": 2
}
