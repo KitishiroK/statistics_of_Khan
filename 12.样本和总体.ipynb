{
 "cells": [
  {
   "cell_type": "markdown",
   "metadata": {
    "deletable": true,
    "editable": true
   },
   "source": [
    "### 1.样本均值和总体均值\n",
    "- 比如，你想算出你学校英语考试的平均成绩，假设你学校已共有1000人，这1000人的总成绩是80000，那么平均成绩就是80分;但是如果你嫌麻烦，不想把每个人的成绩都加起来，你可以随机找300个人，把他们的成绩加起来，假设是24003，这300人平均成绩就是80.01分。这时，80就是总体均值，80.01就是样本均值。"
   ]
  },
  {
   "cell_type": "markdown",
   "metadata": {
    "deletable": true,
    "editable": true
   },
   "source": [
    "### 2.样本均值公式\n",
    "$\\overline{x}=\\frac{\\sum_{i=1}^n{x_i}}{n}$\n",
    "\n",
    "- 分母用小写n表示"
   ]
  },
  {
   "cell_type": "markdown",
   "metadata": {
    "deletable": true,
    "editable": true
   },
   "source": [
    "### 3.总体均值公式\n",
    "$\\mu=\\frac{\\sum_{i=1}^N{x_i}}{N}$\n",
    "\n",
    "- 分母用大写N表示"
   ]
  },
  {
   "cell_type": "code",
   "execution_count": null,
   "metadata": {
    "collapsed": true,
    "deletable": true,
    "editable": true
   },
   "outputs": [],
   "source": []
  }
 ],
 "metadata": {
  "kernelspec": {
   "display_name": "Python 2",
   "language": "python",
   "name": "python2"
  },
  "language_info": {
   "codemirror_mode": {
    "name": "ipython",
    "version": 2
   },
   "file_extension": ".py",
   "mimetype": "text/x-python",
   "name": "python",
   "nbconvert_exporter": "python",
   "pygments_lexer": "ipython2",
   "version": "2.7.13"
  }
 },
 "nbformat": 4,
 "nbformat_minor": 2
}
