{
 "cells": [
  {
   "cell_type": "markdown",
   "metadata": {},
   "source": [
    "### 1.箱线图\n",
    "- 箱形图（Box-plot）又称为盒须图、盒式图或箱线图，是一种用作显示一组数据分散情况资料的统计图。因形状如箱子而得名。在各种领域也经常被使用，常见于品质管理。它主要用于反映原始数据分布的特征，还可以进行多组数据分布特征的比 较。箱线图的绘制方法是：先找出一组数据的最大值、最小值、中位数和两个四分位数；然后， 连接两个四分位数画出箱子；再将最大值和最小值与箱子相连接，中位数在箱子中间。\n"
   ]
  },
  {
   "cell_type": "markdown",
   "metadata": {},
   "source": [
    "### 2.图示\n",
    "<img style=\"float: left;\" src=\"img/box_plot_1.jpg\">    \n",
    "1.下边缘（Q1），表示非异常范围内最小值；       \n",
    "\n",
    "2.下四分位数（Q2），又称“第一四分位数”，等于该样本中所有数值由小到大排列后第25%的数字； \n",
    "\n",
    "3.中位数（Q3），又称“第二四分位数”等于该样本中所有数值由小到大排列后第50%的数字；   \n",
    "\n",
    "4.上四分位数（Q4），又称“第三四分位数”等于该样本中所有数值由小到大排列后第75%的数字；    \n",
    "\n",
    "5.上边缘（Q5），表述非异常范围内最大值;           \n",
    "\n",
    "6.第三四分位数与第一四分位数的差距又称四分位间距; \n",
    "\n",
    "<img style=\"float: left;\" src=\"img/box_plot_2.jpg\">    "
   ]
  },
  {
   "cell_type": "markdown",
   "metadata": {},
   "source": [
    "### 3.计算方法\n",
    "```\n",
    "我们一组序列数为例：12，15，17，19，20，23，25，28，30，33，34，35，36，37讲解这五大因“数”\n",
    "1、下四分位数Q1\n",
    "\n",
    "（1）确定四分位数的位置。Qi所在位置=i（n+1）/4，其中i=1，2，3。n表示序列中包含的项数。\n",
    "\n",
    "（2）根据位置，计算相应的四分位数。\n",
    "\n",
    "例中：\n",
    "\n",
    "Q1所在的位置=（14+1）/4=3.75，\n",
    "\n",
    "Q1=0.25×第三项+0.75×第四项=0.25×17+0.75×19=18.5；\n",
    "\n",
    "2、中位数（第二个四分位数）Q2\n",
    "\n",
    "中位数，即一组数由小到大排列处于中间位置的数。若序列数为偶数个，该组的中位数为中间两个数的平均数。\n",
    "\n",
    "例中：\n",
    "\n",
    "Q2所在的位置=2（14+1）/4=7.5，\n",
    "\n",
    "Q2=0.5×第七项+0.5×第八项=0.5×25+0.5×28=26.5\n",
    "\n",
    "3、上四分位数Q3\n",
    "\n",
    "计算方法同下四分位数。\n",
    "\n",
    "例中：\n",
    "\n",
    "Q3所在的位置=3（14+1）/4=11.25，\n",
    "\n",
    "Q3=0.75×第十一项+0.25×第十二项=0.75×34+0.25×35=34.25。\n",
    "\n",
    "4、上限\n",
    "\n",
    "上限是非异常范围内的最大值。\n",
    "\n",
    "首先要知道什么是四分位距如何计算的？\n",
    "\n",
    "四分位距IQR=Q3-Q1，那么上限=Q3+1.5IQR\n",
    "\n",
    "5、下限\n",
    "\n",
    "下限是非异常范围内的最小值。\n",
    "\n",
    "下限=Q1-1.5IQR\n",
    "\n",
    "```\n",
    "\n"
   ]
  },
  {
   "cell_type": "markdown",
   "metadata": {},
   "source": [
    "### 4.代码实现"
   ]
  },
  {
   "cell_type": "code",
   "execution_count": 4,
   "metadata": {
    "collapsed": false
   },
   "outputs": [
    {
     "data": {
      "image/png": "[encoded data removed]",
      "text/plain": [
       "<matplotlib.figure.Figure at 0x105ec0c90>"
      ]
     },
     "metadata": {},
     "output_type": "display_data"
    }
   ],
   "source": [
    "import matplotlib.pyplot as plt\n",
    "import numpy as np\n",
    " \n",
    "all_data = [np.random.normal(0, std, 100) for std in range(1, 4)]\n",
    " \n",
    "fig = plt.figure(figsize=(8,6))\n",
    " \n",
    "plt.boxplot(all_data,\n",
    "            notch=False, # box instead of notch shape\n",
    "            sym='rs',    # red squares for outliers\n",
    "            vert=True)   # vertical box aligmnent\n",
    " \n",
    "plt.xticks([y+1 for y in range(len(all_data))], ['x1', 'x2', 'x3'])\n",
    "plt.xlabel('x')\n",
    "t = plt.title('Box plot')\n",
    "plt.show()"
   ]
  }
 ],
 "metadata": {
  "kernelspec": {
   "display_name": "Python 2",
   "language": "python",
   "name": "python2"
  },
  "language_info": {
   "codemirror_mode": {
    "name": "ipython",
    "version": 2
   },
   "file_extension": ".py",
   "mimetype": "text/x-python",
   "name": "python",
   "nbconvert_exporter": "python",
   "pygments_lexer": "ipython2",
   "version": "2.7.13"
  }
 },
 "nbformat": 4,
 "nbformat_minor": 2
}
