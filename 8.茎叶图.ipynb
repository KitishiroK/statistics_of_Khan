{
 "cells": [
  {
   "cell_type": "markdown",
   "metadata": {},
   "source": [
    "### 1.茎叶图\n",
    "- 茎叶图（Stem-and-Leaf display）又称“枝叶图”，是在20世纪早期由英国统计学家阿瑟·鲍利（Arthur Bowley）设计，1977年统计学家约翰托奇（John Tukey）在其著作《探索性数据分析》（exploratory data analysis）中将这种绘图方法介绍给大家，从此这种作图方法变得流行起来。\n",
    "\n",
    "- 茎叶图的思路是将数组中的数按位数进行比较，将数的大小基本不变或变化不大的位作为一个主干（茎），将变化大的位的数作为分枝（叶），列在主干的后面，这样就可以清楚地看到每个主干后面的几个数，每个数具体是多少"
   ]
  },
  {
   "cell_type": "markdown",
   "metadata": {},
   "source": [
    "#### 1.1 优点\n",
    "- 用茎叶图表示数据有两个优点：\n",
    "  - 从统计图上没有原始数据信息的损失，所有数据信息都可以从茎叶图中得到；\n",
    "  - 茎叶图中的数据可以随时记录，随时添加，方便记录与表示。"
   ]
  },
  {
   "cell_type": "markdown",
   "metadata": {},
   "source": [
    "#### 1.2 缺点\n",
    "- 茎叶图只便于表示个位之前相差不大的数据，而且茎叶图只方便记录两组的数据。两个以上的数据虽然能够记录，但是没有表示两个记录那么直观、清晰"
   ]
  },
  {
   "cell_type": "markdown",
   "metadata": {},
   "source": [
    "#### 1.3 示例\n",
    "- 用茎叶图表示 1、2、3、10、15、23\n",
    "```\n",
    "茎|叶       \n",
    "0 | 1 2 3      \n",
    "1 | 0 5      \n",
    "2 | 3      \n",
    "```"
   ]
  }
 ],
 "metadata": {
  "kernelspec": {
   "display_name": "Python 2",
   "language": "python",
   "name": "python2"
  },
  "language_info": {
   "codemirror_mode": {
    "name": "ipython",
    "version": 2
   },
   "file_extension": ".py",
   "mimetype": "text/x-python",
   "name": "python",
   "nbconvert_exporter": "python",
   "pygments_lexer": "ipython2",
   "version": "2.7.13"
  }
 },
 "nbformat": 4,
 "nbformat_minor": 2
}
