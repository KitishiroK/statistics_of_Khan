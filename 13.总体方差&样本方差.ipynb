{
 "cells": [
  {
   "cell_type": "markdown",
   "metadata": {
    "deletable": true,
    "editable": true
   },
   "source": [
    "### 1.总体方差\n",
    "- 总体方差是一组资料中各数值与其算术平均数离差平方和的平均数。\n",
    "- 公式\n",
    " - μ代表总体均值\n",
    "\n",
    "$\\sigma^2=\\frac{\\sum_{i=1}^N{(x_i-\\mu)^2}}{N}$"
   ]
  },
  {
   "cell_type": "markdown",
   "metadata": {},
   "source": [
    "### 2.样本方差\n",
    "\n",
    "- 样本方差是依据所给样本对随机变量的方差做出的一个估计。\n",
    "- 公式\n",
    " - $\\overline{x}$ 代表样本均值\n",
    " \n",
    "$s^2=\\frac{\\sum_{i=1}^N{(x_i-\\overline{x})^2}}{N-1}$\n",
    "\n"
   ]
  },
  {
   "cell_type": "markdown",
   "metadata": {},
   "source": [
    "### 3.样本方差与总体方差的区别\n",
    "- 从公式上看总体方差的分母是N，样本方差分母是N-1，样本方差计算公式里分母为n-1的目的是为了让方差的估计是无偏的。\n",
    "- 推导过程参考 https://www.matongxue.com/madocs/607.html\n"
   ]
  },
  {
   "cell_type": "markdown",
   "metadata": {},
   "source": [
    "### 4.诸方差\n",
    "- 方差计算的另一种表达方式，将方差公式分子展开即可。\n",
    "- 公式\n",
    "\n",
    "$\\sigma^2=\\frac{\\sum_{i=1}^N{(x_i)^2}}{N}-\\mu^2$"
   ]
  },
  {
   "cell_type": "code",
   "execution_count": null,
   "metadata": {
    "collapsed": true
   },
   "outputs": [],
   "source": []
  }
 ],
 "metadata": {
  "kernelspec": {
   "display_name": "Python 2",
   "language": "python",
   "name": "python2"
  },
  "language_info": {
   "codemirror_mode": {
    "name": "ipython",
    "version": 2
   },
   "file_extension": ".py",
   "mimetype": "text/x-python",
   "name": "python",
   "nbconvert_exporter": "python",
   "pygments_lexer": "ipython2",
   "version": "2.7.13"
  }
 },
 "nbformat": 4,
 "nbformat_minor": 2
}
